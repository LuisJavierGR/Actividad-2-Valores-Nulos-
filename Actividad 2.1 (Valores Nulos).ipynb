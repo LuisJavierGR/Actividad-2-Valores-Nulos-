{
 "cells": [
  {
   "cell_type": "markdown",
   "id": "8404d82a",
   "metadata": {},
   "source": [
    "# Actividad 2.1 (Valores Nulos)\n",
    "## Luis Javier González Romero -  A1702728"
   ]
  },
  {
   "cell_type": "code",
   "execution_count": 1,
   "id": "d5618c54",
   "metadata": {},
   "outputs": [],
   "source": [
    "import pandas as pd\n",
    "import numpy as np\n",
    "import matplotlib.pyplot as plt"
   ]
  },
  {
   "cell_type": "code",
   "execution_count": 2,
   "id": "937a2d46",
   "metadata": {},
   "outputs": [
    {
     "data": {
      "text/html": [
       "<div>\n",
       "<style scoped>\n",
       "    .dataframe tbody tr th:only-of-type {\n",
       "        vertical-align: middle;\n",
       "    }\n",
       "\n",
       "    .dataframe tbody tr th {\n",
       "        vertical-align: top;\n",
       "    }\n",
       "\n",
       "    .dataframe thead th {\n",
       "        text-align: right;\n",
       "    }\n",
       "</style>\n",
       "<table border=\"1\" class=\"dataframe\">\n",
       "  <thead>\n",
       "    <tr style=\"text-align: right;\">\n",
       "      <th></th>\n",
       "      <th>indice_tiempo</th>\n",
       "      <th>ventas_precios_corrientes</th>\n",
       "      <th>ventas_precios_constantes</th>\n",
       "      <th>ventas_totales_canal_venta</th>\n",
       "      <th>salon_ventas</th>\n",
       "      <th>canales_on_line</th>\n",
       "      <th>ventas_totales_medio_pago</th>\n",
       "      <th>efectivo</th>\n",
       "      <th>tarjetas_debito</th>\n",
       "      <th>tarjetas_credito</th>\n",
       "      <th>otros_medios</th>\n",
       "      <th>ventas_totales_grupo_articulos</th>\n",
       "      <th>subtotal_ventas_alimentos_bebidas</th>\n",
       "      <th>bebidas</th>\n",
       "      <th>almacen</th>\n",
       "      <th>panaderia</th>\n",
       "      <th>lacteos</th>\n",
       "      <th>carnes</th>\n",
       "      <th>verduleria_fruteria</th>\n",
       "      <th>alimentos_preparados_rotiseria</th>\n",
       "      <th>articulos_limpieza_perfumeria</th>\n",
       "      <th>indumentaria_calzado_textiles_hogar</th>\n",
       "      <th>electronicos_articulos_hogar</th>\n",
       "      <th>otros</th>\n",
       "    </tr>\n",
       "  </thead>\n",
       "  <tbody>\n",
       "    <tr>\n",
       "      <th>0</th>\n",
       "      <td>01/01/2017</td>\n",
       "      <td>27858.9</td>\n",
       "      <td>27477.3</td>\n",
       "      <td>27858872.08</td>\n",
       "      <td>27591730.13</td>\n",
       "      <td>267141.956</td>\n",
       "      <td>27858872.08</td>\n",
       "      <td>1.023010e+07</td>\n",
       "      <td>6864575.384</td>\n",
       "      <td>9047205.493</td>\n",
       "      <td>1716991.073</td>\n",
       "      <td>27858872.08</td>\n",
       "      <td>18043789.16</td>\n",
       "      <td>3514467.398</td>\n",
       "      <td>6705475.318</td>\n",
       "      <td>9.459063e+05</td>\n",
       "      <td>2880656.169</td>\n",
       "      <td>2606192.942</td>\n",
       "      <td>1.050314e+06</td>\n",
       "      <td>340777.3882</td>\n",
       "      <td>4397543.671</td>\n",
       "      <td>772371.8476</td>\n",
       "      <td>1838507.096</td>\n",
       "      <td>2806660.309</td>\n",
       "    </tr>\n",
       "    <tr>\n",
       "      <th>1</th>\n",
       "      <td>01/02/2017</td>\n",
       "      <td>25994.2</td>\n",
       "      <td>25223.4</td>\n",
       "      <td>25994200.17</td>\n",
       "      <td>25749179.40</td>\n",
       "      <td>245020.769</td>\n",
       "      <td>25994200.17</td>\n",
       "      <td>9.719067e+06</td>\n",
       "      <td>6438494.011</td>\n",
       "      <td>8309150.301</td>\n",
       "      <td>1527488.518</td>\n",
       "      <td>25994200.17</td>\n",
       "      <td>17656879.08</td>\n",
       "      <td>3344456.931</td>\n",
       "      <td>6576624.803</td>\n",
       "      <td>9.256186e+05</td>\n",
       "      <td>2855639.900</td>\n",
       "      <td>2600083.591</td>\n",
       "      <td>1.026167e+06</td>\n",
       "      <td>328288.6951</td>\n",
       "      <td>4053283.771</td>\n",
       "      <td>672290.5165</td>\n",
       "      <td>1257661.903</td>\n",
       "      <td>2354084.901</td>\n",
       "    </tr>\n",
       "    <tr>\n",
       "      <th>2</th>\n",
       "      <td>01/03/2017</td>\n",
       "      <td>27780.0</td>\n",
       "      <td>26334.3</td>\n",
       "      <td>27780006.52</td>\n",
       "      <td>27472228.72</td>\n",
       "      <td>307777.804</td>\n",
       "      <td>27780006.52</td>\n",
       "      <td>1.024444e+07</td>\n",
       "      <td>6908522.962</td>\n",
       "      <td>8845010.494</td>\n",
       "      <td>1782030.557</td>\n",
       "      <td>27780006.52</td>\n",
       "      <td>19186248.05</td>\n",
       "      <td>3290739.324</td>\n",
       "      <td>7437264.174</td>\n",
       "      <td>1.016148e+06</td>\n",
       "      <td>3188259.169</td>\n",
       "      <td>2824976.726</td>\n",
       "      <td>1.075526e+06</td>\n",
       "      <td>353335.1548</td>\n",
       "      <td>4354197.611</td>\n",
       "      <td>667696.6653</td>\n",
       "      <td>1305674.917</td>\n",
       "      <td>2266189.277</td>\n",
       "    </tr>\n",
       "    <tr>\n",
       "      <th>3</th>\n",
       "      <td>01/04/2017</td>\n",
       "      <td>29134.3</td>\n",
       "      <td>27045.9</td>\n",
       "      <td>29134272.22</td>\n",
       "      <td>28827479.49</td>\n",
       "      <td>306792.733</td>\n",
       "      <td>29134272.22</td>\n",
       "      <td>1.031263e+07</td>\n",
       "      <td>7454251.800</td>\n",
       "      <td>9458166.682</td>\n",
       "      <td>1909221.374</td>\n",
       "      <td>29134272.22</td>\n",
       "      <td>20257135.10</td>\n",
       "      <td>3253288.237</td>\n",
       "      <td>8211244.093</td>\n",
       "      <td>1.132396e+06</td>\n",
       "      <td>3257140.159</td>\n",
       "      <td>3006158.760</td>\n",
       "      <td>1.037213e+06</td>\n",
       "      <td>359694.4537</td>\n",
       "      <td>4355706.646</td>\n",
       "      <td>838948.2458</td>\n",
       "      <td>1535726.345</td>\n",
       "      <td>2146755.887</td>\n",
       "    </tr>\n",
       "    <tr>\n",
       "      <th>4</th>\n",
       "      <td>01/05/2017</td>\n",
       "      <td>27969.0</td>\n",
       "      <td>25631.9</td>\n",
       "      <td>27969004.68</td>\n",
       "      <td>27569311.41</td>\n",
       "      <td>399693.262</td>\n",
       "      <td>27969004.68</td>\n",
       "      <td>1.014761e+07</td>\n",
       "      <td>6735747.319</td>\n",
       "      <td>9220929.862</td>\n",
       "      <td>1864714.157</td>\n",
       "      <td>27969004.68</td>\n",
       "      <td>18904574.40</td>\n",
       "      <td>2869437.411</td>\n",
       "      <td>7651058.084</td>\n",
       "      <td>1.033082e+06</td>\n",
       "      <td>3232635.767</td>\n",
       "      <td>2799142.123</td>\n",
       "      <td>9.826512e+05</td>\n",
       "      <td>336568.0085</td>\n",
       "      <td>4206101.605</td>\n",
       "      <td>915895.1498</td>\n",
       "      <td>1824462.036</td>\n",
       "      <td>2117971.483</td>\n",
       "    </tr>\n",
       "  </tbody>\n",
       "</table>\n",
       "</div>"
      ],
      "text/plain": [
       "  indice_tiempo  ventas_precios_corrientes  ventas_precios_constantes  \\\n",
       "0    01/01/2017                    27858.9                    27477.3   \n",
       "1    01/02/2017                    25994.2                    25223.4   \n",
       "2    01/03/2017                    27780.0                    26334.3   \n",
       "3    01/04/2017                    29134.3                    27045.9   \n",
       "4    01/05/2017                    27969.0                    25631.9   \n",
       "\n",
       "   ventas_totales_canal_venta  salon_ventas  canales_on_line  \\\n",
       "0                 27858872.08   27591730.13       267141.956   \n",
       "1                 25994200.17   25749179.40       245020.769   \n",
       "2                 27780006.52   27472228.72       307777.804   \n",
       "3                 29134272.22   28827479.49       306792.733   \n",
       "4                 27969004.68   27569311.41       399693.262   \n",
       "\n",
       "   ventas_totales_medio_pago      efectivo  tarjetas_debito  tarjetas_credito  \\\n",
       "0                27858872.08  1.023010e+07      6864575.384       9047205.493   \n",
       "1                25994200.17  9.719067e+06      6438494.011       8309150.301   \n",
       "2                27780006.52  1.024444e+07      6908522.962       8845010.494   \n",
       "3                29134272.22  1.031263e+07      7454251.800       9458166.682   \n",
       "4                27969004.68  1.014761e+07      6735747.319       9220929.862   \n",
       "\n",
       "   otros_medios  ventas_totales_grupo_articulos  \\\n",
       "0   1716991.073                     27858872.08   \n",
       "1   1527488.518                     25994200.17   \n",
       "2   1782030.557                     27780006.52   \n",
       "3   1909221.374                     29134272.22   \n",
       "4   1864714.157                     27969004.68   \n",
       "\n",
       "   subtotal_ventas_alimentos_bebidas      bebidas      almacen     panaderia  \\\n",
       "0                        18043789.16  3514467.398  6705475.318  9.459063e+05   \n",
       "1                        17656879.08  3344456.931  6576624.803  9.256186e+05   \n",
       "2                        19186248.05  3290739.324  7437264.174  1.016148e+06   \n",
       "3                        20257135.10  3253288.237  8211244.093  1.132396e+06   \n",
       "4                        18904574.40  2869437.411  7651058.084  1.033082e+06   \n",
       "\n",
       "       lacteos       carnes  verduleria_fruteria  \\\n",
       "0  2880656.169  2606192.942         1.050314e+06   \n",
       "1  2855639.900  2600083.591         1.026167e+06   \n",
       "2  3188259.169  2824976.726         1.075526e+06   \n",
       "3  3257140.159  3006158.760         1.037213e+06   \n",
       "4  3232635.767  2799142.123         9.826512e+05   \n",
       "\n",
       "   alimentos_preparados_rotiseria  articulos_limpieza_perfumeria  \\\n",
       "0                     340777.3882                    4397543.671   \n",
       "1                     328288.6951                    4053283.771   \n",
       "2                     353335.1548                    4354197.611   \n",
       "3                     359694.4537                    4355706.646   \n",
       "4                     336568.0085                    4206101.605   \n",
       "\n",
       "   indumentaria_calzado_textiles_hogar  electronicos_articulos_hogar  \\\n",
       "0                          772371.8476                   1838507.096   \n",
       "1                          672290.5165                   1257661.903   \n",
       "2                          667696.6653                   1305674.917   \n",
       "3                          838948.2458                   1535726.345   \n",
       "4                          915895.1498                   1824462.036   \n",
       "\n",
       "         otros  \n",
       "0  2806660.309  \n",
       "1  2354084.901  \n",
       "2  2266189.277  \n",
       "3  2146755.887  \n",
       "4  2117971.483  "
      ]
     },
     "execution_count": 2,
     "metadata": {},
     "output_type": "execute_result"
    }
   ],
   "source": [
    "pd.options.display.max_columns = None\n",
    "data = pd.read_csv('Ventas_totales.csv')\n",
    "data.head(5)"
   ]
  },
  {
   "cell_type": "code",
   "execution_count": 3,
   "id": "8ddb449f",
   "metadata": {},
   "outputs": [
    {
     "data": {
      "text/plain": [
       "indice_tiempo                           0\n",
       "ventas_precios_corrientes               0\n",
       "ventas_precios_constantes               0\n",
       "ventas_totales_canal_venta              0\n",
       "salon_ventas                            6\n",
       "canales_on_line                         0\n",
       "ventas_totales_medio_pago               0\n",
       "efectivo                                0\n",
       "tarjetas_debito                         1\n",
       "tarjetas_credito                        7\n",
       "otros_medios                            1\n",
       "ventas_totales_grupo_articulos          0\n",
       "subtotal_ventas_alimentos_bebidas      10\n",
       "bebidas                                 1\n",
       "almacen                                 2\n",
       "panaderia                               1\n",
       "lacteos                                 1\n",
       "carnes                                  1\n",
       "verduleria_fruteria                     1\n",
       "alimentos_preparados_rotiseria          1\n",
       "articulos_limpieza_perfumeria           0\n",
       "indumentaria_calzado_textiles_hogar     2\n",
       "electronicos_articulos_hogar            3\n",
       "otros                                   4\n",
       "dtype: int64"
      ]
     },
     "execution_count": 3,
     "metadata": {},
     "output_type": "execute_result"
    }
   ],
   "source": [
    "#identificar valores nulos por columna\n",
    "valores_nulos = data.isnull().sum()\n",
    "valores_nulos"
   ]
  },
  {
   "cell_type": "code",
   "execution_count": 4,
   "id": "6c2bcbf8",
   "metadata": {},
   "outputs": [],
   "source": [
    "#Realizamos una copia del dataframe\n",
    "data2 = data.copy()"
   ]
  },
  {
   "cell_type": "markdown",
   "id": "b5d7843b",
   "metadata": {},
   "source": [
    "* Para la columna ***'salon_ventas'*** tratamos 6 valores nulos por medio del promedio por columna, considerando 2 decimales. Al ser varios datos, usar el promedio puede tener una mejor representación al imputar los datos. "
   ]
  },
  {
   "cell_type": "code",
   "execution_count": 5,
   "id": "49978afc",
   "metadata": {},
   "outputs": [],
   "source": [
    "#Sustituir valores nulos con promedio o media\n",
    "data2['salon_ventas'] = data2['salon_ventas'].fillna(round(data['salon_ventas'].mean(),2))"
   ]
  },
  {
   "cell_type": "code",
   "execution_count": 6,
   "id": "4f72d182",
   "metadata": {},
   "outputs": [
    {
     "data": {
      "text/plain": [
       "indice_tiempo                           0\n",
       "ventas_precios_corrientes               0\n",
       "ventas_precios_constantes               0\n",
       "ventas_totales_canal_venta              0\n",
       "salon_ventas                            0\n",
       "canales_on_line                         0\n",
       "ventas_totales_medio_pago               0\n",
       "efectivo                                0\n",
       "tarjetas_debito                         1\n",
       "tarjetas_credito                        7\n",
       "otros_medios                            1\n",
       "ventas_totales_grupo_articulos          0\n",
       "subtotal_ventas_alimentos_bebidas      10\n",
       "bebidas                                 1\n",
       "almacen                                 2\n",
       "panaderia                               1\n",
       "lacteos                                 1\n",
       "carnes                                  1\n",
       "verduleria_fruteria                     1\n",
       "alimentos_preparados_rotiseria          1\n",
       "articulos_limpieza_perfumeria           0\n",
       "indumentaria_calzado_textiles_hogar     2\n",
       "electronicos_articulos_hogar            3\n",
       "otros                                   4\n",
       "dtype: int64"
      ]
     },
     "execution_count": 6,
     "metadata": {},
     "output_type": "execute_result"
    }
   ],
   "source": [
    "#identificar valores nulos por columna\n",
    "valores_nulos = data2.isnull().sum()\n",
    "valores_nulos"
   ]
  },
  {
   "cell_type": "code",
   "execution_count": 7,
   "id": "2ba3c47a",
   "metadata": {},
   "outputs": [],
   "source": [
    "data2.to_csv('Ventas_totales01.csv')"
   ]
  },
  {
   "cell_type": "markdown",
   "id": "108d21e5",
   "metadata": {},
   "source": [
    "* Para la columna ***'tarjetas_debito'*** tratamos 1 valor nulo por medio del promedio por columna, considerando 3 decimales."
   ]
  },
  {
   "cell_type": "code",
   "execution_count": 8,
   "id": "a70e5364",
   "metadata": {},
   "outputs": [],
   "source": [
    "#Sustituir valores nulos con promedio o media\n",
    "data2['tarjetas_debito'] = data2['tarjetas_debito'].fillna(round(data['tarjetas_debito'].mean(),3))"
   ]
  },
  {
   "cell_type": "code",
   "execution_count": 9,
   "id": "e3d02c83",
   "metadata": {},
   "outputs": [
    {
     "data": {
      "text/plain": [
       "indice_tiempo                           0\n",
       "ventas_precios_corrientes               0\n",
       "ventas_precios_constantes               0\n",
       "ventas_totales_canal_venta              0\n",
       "salon_ventas                            0\n",
       "canales_on_line                         0\n",
       "ventas_totales_medio_pago               0\n",
       "efectivo                                0\n",
       "tarjetas_debito                         0\n",
       "tarjetas_credito                        7\n",
       "otros_medios                            1\n",
       "ventas_totales_grupo_articulos          0\n",
       "subtotal_ventas_alimentos_bebidas      10\n",
       "bebidas                                 1\n",
       "almacen                                 2\n",
       "panaderia                               1\n",
       "lacteos                                 1\n",
       "carnes                                  1\n",
       "verduleria_fruteria                     1\n",
       "alimentos_preparados_rotiseria          1\n",
       "articulos_limpieza_perfumeria           0\n",
       "indumentaria_calzado_textiles_hogar     2\n",
       "electronicos_articulos_hogar            3\n",
       "otros                                   4\n",
       "dtype: int64"
      ]
     },
     "execution_count": 9,
     "metadata": {},
     "output_type": "execute_result"
    }
   ],
   "source": [
    "#identificar valores nulos por columna\n",
    "valores_nulos = data2.isnull().sum()\n",
    "valores_nulos"
   ]
  },
  {
   "cell_type": "code",
   "execution_count": 10,
   "id": "8a343b03",
   "metadata": {},
   "outputs": [],
   "source": [
    "data2.to_csv('Ventas_totales02.csv')"
   ]
  },
  {
   "cell_type": "markdown",
   "id": "46d24d58",
   "metadata": {},
   "source": [
    "* Para la columna ***'tarjetas_credito'*** tratamos 7 valores nulos por medio del promedio por columna, considerando 3 decimales.  Al ser varios datos, usar el promedio puede tener una mejor representación al imputar los datos. "
   ]
  },
  {
   "cell_type": "code",
   "execution_count": 11,
   "id": "267a163f",
   "metadata": {},
   "outputs": [],
   "source": [
    "#Sustituir valores nulos con promedio o media\n",
    "data2['tarjetas_credito'] = data2['tarjetas_credito'].fillna(round(data['tarjetas_credito'].mean(),3))"
   ]
  },
  {
   "cell_type": "code",
   "execution_count": 12,
   "id": "ad46e163",
   "metadata": {},
   "outputs": [
    {
     "data": {
      "text/plain": [
       "indice_tiempo                           0\n",
       "ventas_precios_corrientes               0\n",
       "ventas_precios_constantes               0\n",
       "ventas_totales_canal_venta              0\n",
       "salon_ventas                            0\n",
       "canales_on_line                         0\n",
       "ventas_totales_medio_pago               0\n",
       "efectivo                                0\n",
       "tarjetas_debito                         0\n",
       "tarjetas_credito                        0\n",
       "otros_medios                            1\n",
       "ventas_totales_grupo_articulos          0\n",
       "subtotal_ventas_alimentos_bebidas      10\n",
       "bebidas                                 1\n",
       "almacen                                 2\n",
       "panaderia                               1\n",
       "lacteos                                 1\n",
       "carnes                                  1\n",
       "verduleria_fruteria                     1\n",
       "alimentos_preparados_rotiseria          1\n",
       "articulos_limpieza_perfumeria           0\n",
       "indumentaria_calzado_textiles_hogar     2\n",
       "electronicos_articulos_hogar            3\n",
       "otros                                   4\n",
       "dtype: int64"
      ]
     },
     "execution_count": 12,
     "metadata": {},
     "output_type": "execute_result"
    }
   ],
   "source": [
    "#identificar valores nulos por columna\n",
    "valores_nulos = data2.isnull().sum()\n",
    "valores_nulos"
   ]
  },
  {
   "cell_type": "code",
   "execution_count": 13,
   "id": "beff8c50",
   "metadata": {},
   "outputs": [],
   "source": [
    "data2.to_csv('Ventas_totales03.csv')"
   ]
  },
  {
   "cell_type": "markdown",
   "id": "d9f4b115",
   "metadata": {},
   "source": [
    "* Para la columna ***'otros_medios'*** tratamos 1 valor nulo por medio de la mediana por columna, considerando 3 decimales.  Al ser un único dato, usar la mediana tomará el dato que se encuentre en el centro de la columna."
   ]
  },
  {
   "cell_type": "code",
   "execution_count": 14,
   "id": "bfb4c174",
   "metadata": {},
   "outputs": [],
   "source": [
    "#Sustituir valores nulos con mediana\n",
    "data2['otros_medios'] = data2['otros_medios'].fillna(round(data['otros_medios'].median(),3))"
   ]
  },
  {
   "cell_type": "code",
   "execution_count": 15,
   "id": "c1b6b151",
   "metadata": {},
   "outputs": [
    {
     "data": {
      "text/plain": [
       "indice_tiempo                           0\n",
       "ventas_precios_corrientes               0\n",
       "ventas_precios_constantes               0\n",
       "ventas_totales_canal_venta              0\n",
       "salon_ventas                            0\n",
       "canales_on_line                         0\n",
       "ventas_totales_medio_pago               0\n",
       "efectivo                                0\n",
       "tarjetas_debito                         0\n",
       "tarjetas_credito                        0\n",
       "otros_medios                            0\n",
       "ventas_totales_grupo_articulos          0\n",
       "subtotal_ventas_alimentos_bebidas      10\n",
       "bebidas                                 1\n",
       "almacen                                 2\n",
       "panaderia                               1\n",
       "lacteos                                 1\n",
       "carnes                                  1\n",
       "verduleria_fruteria                     1\n",
       "alimentos_preparados_rotiseria          1\n",
       "articulos_limpieza_perfumeria           0\n",
       "indumentaria_calzado_textiles_hogar     2\n",
       "electronicos_articulos_hogar            3\n",
       "otros                                   4\n",
       "dtype: int64"
      ]
     },
     "execution_count": 15,
     "metadata": {},
     "output_type": "execute_result"
    }
   ],
   "source": [
    "#identificar valores nulos por columna\n",
    "valores_nulos = data2.isnull().sum()\n",
    "valores_nulos"
   ]
  },
  {
   "cell_type": "code",
   "execution_count": 16,
   "id": "b341275f",
   "metadata": {},
   "outputs": [],
   "source": [
    "data2.to_csv('Ventas_totales04.csv')"
   ]
  },
  {
   "cell_type": "markdown",
   "id": "add8884b",
   "metadata": {},
   "source": [
    "* Para la columna ***'subtotal_ventas_alimentos_bebidas'*** tratamos 10 valores nulos por medio del promedio por columna, considerando 2 decimales.  Al ser varios datos, usar el promedio puede tener una mejor representación al imputar los datos. "
   ]
  },
  {
   "cell_type": "code",
   "execution_count": 17,
   "id": "1112966c",
   "metadata": {},
   "outputs": [],
   "source": [
    "#Sustituir valores nulos con mediana\n",
    "data2['subtotal_ventas_alimentos_bebidas'] = data2['subtotal_ventas_alimentos_bebidas'].fillna(round(data['subtotal_ventas_alimentos_bebidas'].mean(),2))"
   ]
  },
  {
   "cell_type": "code",
   "execution_count": 18,
   "id": "96e7a75e",
   "metadata": {},
   "outputs": [
    {
     "data": {
      "text/plain": [
       "indice_tiempo                          0\n",
       "ventas_precios_corrientes              0\n",
       "ventas_precios_constantes              0\n",
       "ventas_totales_canal_venta             0\n",
       "salon_ventas                           0\n",
       "canales_on_line                        0\n",
       "ventas_totales_medio_pago              0\n",
       "efectivo                               0\n",
       "tarjetas_debito                        0\n",
       "tarjetas_credito                       0\n",
       "otros_medios                           0\n",
       "ventas_totales_grupo_articulos         0\n",
       "subtotal_ventas_alimentos_bebidas      0\n",
       "bebidas                                1\n",
       "almacen                                2\n",
       "panaderia                              1\n",
       "lacteos                                1\n",
       "carnes                                 1\n",
       "verduleria_fruteria                    1\n",
       "alimentos_preparados_rotiseria         1\n",
       "articulos_limpieza_perfumeria          0\n",
       "indumentaria_calzado_textiles_hogar    2\n",
       "electronicos_articulos_hogar           3\n",
       "otros                                  4\n",
       "dtype: int64"
      ]
     },
     "execution_count": 18,
     "metadata": {},
     "output_type": "execute_result"
    }
   ],
   "source": [
    "#identificar valores nulos por columna\n",
    "valores_nulos = data2.isnull().sum()\n",
    "valores_nulos"
   ]
  },
  {
   "cell_type": "code",
   "execution_count": 19,
   "id": "babbd9ad",
   "metadata": {},
   "outputs": [],
   "source": [
    "data2.to_csv('Ventas_totales05.csv')"
   ]
  },
  {
   "cell_type": "markdown",
   "id": "a99a4f75",
   "metadata": {},
   "source": [
    "* Para la columna ***'bebidas'*** tratamos 1 valor nulo por medio de la función forward fill (ffill).  Al ser un único dato, usar ffill tomará el dato previo al nulo y lo imputará con este valor."
   ]
  },
  {
   "cell_type": "code",
   "execution_count": 20,
   "id": "20121ab0",
   "metadata": {},
   "outputs": [],
   "source": [
    "#Sustituir valores nulos por valores no nulos hacia adelante 'forward fill' (ffill)\n",
    "#Filtro por columnas\n",
    "data2['bebidas'] = data2['bebidas'].fillna(method='ffill')"
   ]
  },
  {
   "cell_type": "code",
   "execution_count": 21,
   "id": "5486709e",
   "metadata": {},
   "outputs": [
    {
     "data": {
      "text/plain": [
       "indice_tiempo                          0\n",
       "ventas_precios_corrientes              0\n",
       "ventas_precios_constantes              0\n",
       "ventas_totales_canal_venta             0\n",
       "salon_ventas                           0\n",
       "canales_on_line                        0\n",
       "ventas_totales_medio_pago              0\n",
       "efectivo                               0\n",
       "tarjetas_debito                        0\n",
       "tarjetas_credito                       0\n",
       "otros_medios                           0\n",
       "ventas_totales_grupo_articulos         0\n",
       "subtotal_ventas_alimentos_bebidas      0\n",
       "bebidas                                0\n",
       "almacen                                2\n",
       "panaderia                              1\n",
       "lacteos                                1\n",
       "carnes                                 1\n",
       "verduleria_fruteria                    1\n",
       "alimentos_preparados_rotiseria         1\n",
       "articulos_limpieza_perfumeria          0\n",
       "indumentaria_calzado_textiles_hogar    2\n",
       "electronicos_articulos_hogar           3\n",
       "otros                                  4\n",
       "dtype: int64"
      ]
     },
     "execution_count": 21,
     "metadata": {},
     "output_type": "execute_result"
    }
   ],
   "source": [
    "#identificar valores nulos por columna\n",
    "valores_nulos = data2.isnull().sum()\n",
    "valores_nulos"
   ]
  },
  {
   "cell_type": "code",
   "execution_count": 22,
   "id": "1924a132",
   "metadata": {},
   "outputs": [],
   "source": [
    "data2.to_csv('Ventas_totales06.csv')"
   ]
  },
  {
   "cell_type": "markdown",
   "id": "d86a99f1",
   "metadata": {},
   "source": [
    "* Para la columna ***'bebidas'*** tratamos 2 valores nulos por medio de la función backward fill (bfill). Usar bfill tomará el dato posterior al nulo y lo imputará con este valor."
   ]
  },
  {
   "cell_type": "code",
   "execution_count": 23,
   "id": "83ca63fa",
   "metadata": {},
   "outputs": [],
   "source": [
    "#Sustituir valores nulos por valores no nulos hacia atrás 'backward fill' (bfill)\n",
    "data2['almacen'] = data2['almacen'].fillna(method='bfill')"
   ]
  },
  {
   "cell_type": "code",
   "execution_count": 24,
   "id": "11d843a9",
   "metadata": {},
   "outputs": [
    {
     "data": {
      "text/plain": [
       "indice_tiempo                          0\n",
       "ventas_precios_corrientes              0\n",
       "ventas_precios_constantes              0\n",
       "ventas_totales_canal_venta             0\n",
       "salon_ventas                           0\n",
       "canales_on_line                        0\n",
       "ventas_totales_medio_pago              0\n",
       "efectivo                               0\n",
       "tarjetas_debito                        0\n",
       "tarjetas_credito                       0\n",
       "otros_medios                           0\n",
       "ventas_totales_grupo_articulos         0\n",
       "subtotal_ventas_alimentos_bebidas      0\n",
       "bebidas                                0\n",
       "almacen                                0\n",
       "panaderia                              1\n",
       "lacteos                                1\n",
       "carnes                                 1\n",
       "verduleria_fruteria                    1\n",
       "alimentos_preparados_rotiseria         1\n",
       "articulos_limpieza_perfumeria          0\n",
       "indumentaria_calzado_textiles_hogar    2\n",
       "electronicos_articulos_hogar           3\n",
       "otros                                  4\n",
       "dtype: int64"
      ]
     },
     "execution_count": 24,
     "metadata": {},
     "output_type": "execute_result"
    }
   ],
   "source": [
    "#identificar valores nulos por columna\n",
    "valores_nulos = data2.isnull().sum()\n",
    "valores_nulos"
   ]
  },
  {
   "cell_type": "code",
   "execution_count": 25,
   "id": "6ae5c551",
   "metadata": {},
   "outputs": [],
   "source": [
    "data2.to_csv('Ventas_totales07.csv')"
   ]
  },
  {
   "cell_type": "markdown",
   "id": "a293d746",
   "metadata": {},
   "source": [
    "* Para la columna ***'panaderia'*** tratamos 1 valor nulo por medio de la función fillna.  Al ser un único dato, usamos fillna para imputar con un valor numérico específico."
   ]
  },
  {
   "cell_type": "code",
   "execution_count": 26,
   "id": "332002d4",
   "metadata": {},
   "outputs": [],
   "source": [
    "#Sustituir valores nulos por un valor numérico en concreto\n",
    "data2['panaderia'] = data2['panaderia'].fillna(1.132396e+06)"
   ]
  },
  {
   "cell_type": "code",
   "execution_count": 27,
   "id": "bf6b3a5d",
   "metadata": {},
   "outputs": [
    {
     "data": {
      "text/plain": [
       "indice_tiempo                          0\n",
       "ventas_precios_corrientes              0\n",
       "ventas_precios_constantes              0\n",
       "ventas_totales_canal_venta             0\n",
       "salon_ventas                           0\n",
       "canales_on_line                        0\n",
       "ventas_totales_medio_pago              0\n",
       "efectivo                               0\n",
       "tarjetas_debito                        0\n",
       "tarjetas_credito                       0\n",
       "otros_medios                           0\n",
       "ventas_totales_grupo_articulos         0\n",
       "subtotal_ventas_alimentos_bebidas      0\n",
       "bebidas                                0\n",
       "almacen                                0\n",
       "panaderia                              0\n",
       "lacteos                                1\n",
       "carnes                                 1\n",
       "verduleria_fruteria                    1\n",
       "alimentos_preparados_rotiseria         1\n",
       "articulos_limpieza_perfumeria          0\n",
       "indumentaria_calzado_textiles_hogar    2\n",
       "electronicos_articulos_hogar           3\n",
       "otros                                  4\n",
       "dtype: int64"
      ]
     },
     "execution_count": 27,
     "metadata": {},
     "output_type": "execute_result"
    }
   ],
   "source": [
    "#identificar valores nulos por columna\n",
    "valores_nulos = data2.isnull().sum()\n",
    "valores_nulos"
   ]
  },
  {
   "cell_type": "code",
   "execution_count": 28,
   "id": "18741000",
   "metadata": {},
   "outputs": [],
   "source": [
    "data2.to_csv('Ventas_totales08.csv')"
   ]
  },
  {
   "cell_type": "markdown",
   "id": "4e3997ca",
   "metadata": {},
   "source": [
    "* Para la columna ***'lacteos'*** tratamos 1 valor nulo por medio de la función fillna.  Al ser un único dato, usamos fillna para imputar con un valor numérico específico."
   ]
  },
  {
   "cell_type": "code",
   "execution_count": 29,
   "id": "a47a66f5",
   "metadata": {},
   "outputs": [],
   "source": [
    "#Sustituir valores nulos por un valor numérico en concreto\n",
    "data2['lacteos'] = data2['lacteos'].fillna(3232635.767)"
   ]
  },
  {
   "cell_type": "code",
   "execution_count": 30,
   "id": "736f0167",
   "metadata": {},
   "outputs": [
    {
     "data": {
      "text/plain": [
       "indice_tiempo                          0\n",
       "ventas_precios_corrientes              0\n",
       "ventas_precios_constantes              0\n",
       "ventas_totales_canal_venta             0\n",
       "salon_ventas                           0\n",
       "canales_on_line                        0\n",
       "ventas_totales_medio_pago              0\n",
       "efectivo                               0\n",
       "tarjetas_debito                        0\n",
       "tarjetas_credito                       0\n",
       "otros_medios                           0\n",
       "ventas_totales_grupo_articulos         0\n",
       "subtotal_ventas_alimentos_bebidas      0\n",
       "bebidas                                0\n",
       "almacen                                0\n",
       "panaderia                              0\n",
       "lacteos                                0\n",
       "carnes                                 1\n",
       "verduleria_fruteria                    1\n",
       "alimentos_preparados_rotiseria         1\n",
       "articulos_limpieza_perfumeria          0\n",
       "indumentaria_calzado_textiles_hogar    2\n",
       "electronicos_articulos_hogar           3\n",
       "otros                                  4\n",
       "dtype: int64"
      ]
     },
     "execution_count": 30,
     "metadata": {},
     "output_type": "execute_result"
    }
   ],
   "source": [
    "#identificar valores nulos por columna\n",
    "valores_nulos = data2.isnull().sum()\n",
    "valores_nulos"
   ]
  },
  {
   "cell_type": "code",
   "execution_count": 31,
   "id": "bd748877",
   "metadata": {},
   "outputs": [],
   "source": [
    "data2.to_csv('Ventas_totales09.csv')"
   ]
  },
  {
   "cell_type": "markdown",
   "id": "018e5d70",
   "metadata": {},
   "source": [
    "* Para la columna ***'carnes'*** tratamos 1 valor nulo por medio de la función fillna.  Al ser un único dato, usamos fillna para imputar con un valor numérico específico."
   ]
  },
  {
   "cell_type": "code",
   "execution_count": 32,
   "id": "ee3481a7",
   "metadata": {},
   "outputs": [],
   "source": [
    "#Sustituir valores nulos por un valor numérico en concreto\n",
    "data2['carnes'] = data2['carnes'].fillna(2824976.726)"
   ]
  },
  {
   "cell_type": "code",
   "execution_count": 33,
   "id": "f1af0d00",
   "metadata": {},
   "outputs": [
    {
     "data": {
      "text/plain": [
       "indice_tiempo                          0\n",
       "ventas_precios_corrientes              0\n",
       "ventas_precios_constantes              0\n",
       "ventas_totales_canal_venta             0\n",
       "salon_ventas                           0\n",
       "canales_on_line                        0\n",
       "ventas_totales_medio_pago              0\n",
       "efectivo                               0\n",
       "tarjetas_debito                        0\n",
       "tarjetas_credito                       0\n",
       "otros_medios                           0\n",
       "ventas_totales_grupo_articulos         0\n",
       "subtotal_ventas_alimentos_bebidas      0\n",
       "bebidas                                0\n",
       "almacen                                0\n",
       "panaderia                              0\n",
       "lacteos                                0\n",
       "carnes                                 0\n",
       "verduleria_fruteria                    1\n",
       "alimentos_preparados_rotiseria         1\n",
       "articulos_limpieza_perfumeria          0\n",
       "indumentaria_calzado_textiles_hogar    2\n",
       "electronicos_articulos_hogar           3\n",
       "otros                                  4\n",
       "dtype: int64"
      ]
     },
     "execution_count": 33,
     "metadata": {},
     "output_type": "execute_result"
    }
   ],
   "source": [
    "#identificar valores nulos por columna\n",
    "valores_nulos = data2.isnull().sum()\n",
    "valores_nulos"
   ]
  },
  {
   "cell_type": "code",
   "execution_count": 34,
   "id": "bf137a37",
   "metadata": {},
   "outputs": [],
   "source": [
    "data2.to_csv('Ventas_totales10.csv')"
   ]
  },
  {
   "cell_type": "markdown",
   "id": "050374aa",
   "metadata": {},
   "source": [
    "* Para la columna ***'verduleria_fruteria'*** tratamos 1 valor nulo por medio de la función fillna.  Al ser un único dato, usamos fillna para imputar con un valor numérico específico."
   ]
  },
  {
   "cell_type": "code",
   "execution_count": 35,
   "id": "b655bc2e",
   "metadata": {},
   "outputs": [],
   "source": [
    "#Sustituir valores nulos por un valor numérico en concreto\n",
    "data2['verduleria_fruteria'] = data2['verduleria_fruteria'].fillna(1.037213e+06)"
   ]
  },
  {
   "cell_type": "code",
   "execution_count": 36,
   "id": "65357d22",
   "metadata": {
    "scrolled": true
   },
   "outputs": [
    {
     "data": {
      "text/plain": [
       "indice_tiempo                          0\n",
       "ventas_precios_corrientes              0\n",
       "ventas_precios_constantes              0\n",
       "ventas_totales_canal_venta             0\n",
       "salon_ventas                           0\n",
       "canales_on_line                        0\n",
       "ventas_totales_medio_pago              0\n",
       "efectivo                               0\n",
       "tarjetas_debito                        0\n",
       "tarjetas_credito                       0\n",
       "otros_medios                           0\n",
       "ventas_totales_grupo_articulos         0\n",
       "subtotal_ventas_alimentos_bebidas      0\n",
       "bebidas                                0\n",
       "almacen                                0\n",
       "panaderia                              0\n",
       "lacteos                                0\n",
       "carnes                                 0\n",
       "verduleria_fruteria                    0\n",
       "alimentos_preparados_rotiseria         1\n",
       "articulos_limpieza_perfumeria          0\n",
       "indumentaria_calzado_textiles_hogar    2\n",
       "electronicos_articulos_hogar           3\n",
       "otros                                  4\n",
       "dtype: int64"
      ]
     },
     "execution_count": 36,
     "metadata": {},
     "output_type": "execute_result"
    }
   ],
   "source": [
    "#identificar valores nulos por columna\n",
    "valores_nulos = data2.isnull().sum()\n",
    "valores_nulos"
   ]
  },
  {
   "cell_type": "code",
   "execution_count": 37,
   "id": "7c3b8e63",
   "metadata": {},
   "outputs": [],
   "source": [
    "data2.to_csv('Ventas_totales11.csv')"
   ]
  },
  {
   "cell_type": "markdown",
   "id": "4d599e08",
   "metadata": {},
   "source": [
    "* Para la columna ***'alimentos_preparados_rotiseria'*** tratamos 1 valor nulo por medio de la función fillna.  Al ser un único dato, usamos fillna para imputar con un valor numérico específico."
   ]
  },
  {
   "cell_type": "code",
   "execution_count": 38,
   "id": "336df16a",
   "metadata": {},
   "outputs": [],
   "source": [
    "#Sustituir valores nulos con promedio o media\n",
    "data2['alimentos_preparados_rotiseria'] = data2['alimentos_preparados_rotiseria'].fillna(round(data['alimentos_preparados_rotiseria'].mean(),4))"
   ]
  },
  {
   "cell_type": "code",
   "execution_count": 39,
   "id": "fd5e752f",
   "metadata": {},
   "outputs": [
    {
     "data": {
      "text/plain": [
       "indice_tiempo                          0\n",
       "ventas_precios_corrientes              0\n",
       "ventas_precios_constantes              0\n",
       "ventas_totales_canal_venta             0\n",
       "salon_ventas                           0\n",
       "canales_on_line                        0\n",
       "ventas_totales_medio_pago              0\n",
       "efectivo                               0\n",
       "tarjetas_debito                        0\n",
       "tarjetas_credito                       0\n",
       "otros_medios                           0\n",
       "ventas_totales_grupo_articulos         0\n",
       "subtotal_ventas_alimentos_bebidas      0\n",
       "bebidas                                0\n",
       "almacen                                0\n",
       "panaderia                              0\n",
       "lacteos                                0\n",
       "carnes                                 0\n",
       "verduleria_fruteria                    0\n",
       "alimentos_preparados_rotiseria         0\n",
       "articulos_limpieza_perfumeria          0\n",
       "indumentaria_calzado_textiles_hogar    2\n",
       "electronicos_articulos_hogar           3\n",
       "otros                                  4\n",
       "dtype: int64"
      ]
     },
     "execution_count": 39,
     "metadata": {},
     "output_type": "execute_result"
    }
   ],
   "source": [
    "#identificar valores nulos por columna\n",
    "valores_nulos = data2.isnull().sum()\n",
    "valores_nulos"
   ]
  },
  {
   "cell_type": "code",
   "execution_count": 40,
   "id": "d5bda975",
   "metadata": {},
   "outputs": [],
   "source": [
    "data2.to_csv('Ventas_totales12.csv')"
   ]
  },
  {
   "cell_type": "markdown",
   "id": "b01ce84d",
   "metadata": {},
   "source": [
    "* Para la columna ***'indumentaria_calzado_textiles_hogar'*** tratamos 2 valores nulos por medio del promedio por columna, considerando 3 decimales."
   ]
  },
  {
   "cell_type": "code",
   "execution_count": 41,
   "id": "cfeecc50",
   "metadata": {},
   "outputs": [],
   "source": [
    "#Sustituir valores nulos con promedio o media\n",
    "data2['indumentaria_calzado_textiles_hogar'] = data2['indumentaria_calzado_textiles_hogar'].fillna(round(data['indumentaria_calzado_textiles_hogar'].mean(),3))"
   ]
  },
  {
   "cell_type": "code",
   "execution_count": 42,
   "id": "a7236cbc",
   "metadata": {},
   "outputs": [
    {
     "data": {
      "text/plain": [
       "indice_tiempo                          0\n",
       "ventas_precios_corrientes              0\n",
       "ventas_precios_constantes              0\n",
       "ventas_totales_canal_venta             0\n",
       "salon_ventas                           0\n",
       "canales_on_line                        0\n",
       "ventas_totales_medio_pago              0\n",
       "efectivo                               0\n",
       "tarjetas_debito                        0\n",
       "tarjetas_credito                       0\n",
       "otros_medios                           0\n",
       "ventas_totales_grupo_articulos         0\n",
       "subtotal_ventas_alimentos_bebidas      0\n",
       "bebidas                                0\n",
       "almacen                                0\n",
       "panaderia                              0\n",
       "lacteos                                0\n",
       "carnes                                 0\n",
       "verduleria_fruteria                    0\n",
       "alimentos_preparados_rotiseria         0\n",
       "articulos_limpieza_perfumeria          0\n",
       "indumentaria_calzado_textiles_hogar    0\n",
       "electronicos_articulos_hogar           3\n",
       "otros                                  4\n",
       "dtype: int64"
      ]
     },
     "execution_count": 42,
     "metadata": {},
     "output_type": "execute_result"
    }
   ],
   "source": [
    "#identificar valores nulos por columna\n",
    "valores_nulos = data2.isnull().sum()\n",
    "valores_nulos"
   ]
  },
  {
   "cell_type": "code",
   "execution_count": 43,
   "id": "be81c112",
   "metadata": {},
   "outputs": [],
   "source": [
    "data2.to_csv('Ventas_totales13.csv')"
   ]
  },
  {
   "cell_type": "markdown",
   "id": "977c1bcf",
   "metadata": {},
   "source": [
    "* Para la columna ***'electronicos_articulos_hogar'*** tratamos 3 valores nulos por medio de la mediana por columna, considerando 3 decimales.  Usar la mediana tomará el dato que se encuentre en el centro de la columna."
   ]
  },
  {
   "cell_type": "code",
   "execution_count": 44,
   "id": "3988c721",
   "metadata": {},
   "outputs": [],
   "source": [
    "#Sustituir valores nulos con mediana\n",
    "data2['electronicos_articulos_hogar'] = data2['electronicos_articulos_hogar'].fillna(round(data['electronicos_articulos_hogar'].median(),3))"
   ]
  },
  {
   "cell_type": "code",
   "execution_count": 45,
   "id": "e45da231",
   "metadata": {},
   "outputs": [
    {
     "data": {
      "text/plain": [
       "indice_tiempo                          0\n",
       "ventas_precios_corrientes              0\n",
       "ventas_precios_constantes              0\n",
       "ventas_totales_canal_venta             0\n",
       "salon_ventas                           0\n",
       "canales_on_line                        0\n",
       "ventas_totales_medio_pago              0\n",
       "efectivo                               0\n",
       "tarjetas_debito                        0\n",
       "tarjetas_credito                       0\n",
       "otros_medios                           0\n",
       "ventas_totales_grupo_articulos         0\n",
       "subtotal_ventas_alimentos_bebidas      0\n",
       "bebidas                                0\n",
       "almacen                                0\n",
       "panaderia                              0\n",
       "lacteos                                0\n",
       "carnes                                 0\n",
       "verduleria_fruteria                    0\n",
       "alimentos_preparados_rotiseria         0\n",
       "articulos_limpieza_perfumeria          0\n",
       "indumentaria_calzado_textiles_hogar    0\n",
       "electronicos_articulos_hogar           0\n",
       "otros                                  4\n",
       "dtype: int64"
      ]
     },
     "execution_count": 45,
     "metadata": {},
     "output_type": "execute_result"
    }
   ],
   "source": [
    "#identificar valores nulos por columna\n",
    "valores_nulos = data2.isnull().sum()\n",
    "valores_nulos"
   ]
  },
  {
   "cell_type": "code",
   "execution_count": 46,
   "id": "e89ccb25",
   "metadata": {},
   "outputs": [],
   "source": [
    "data2.to_csv('Ventas_totales14.csv')"
   ]
  },
  {
   "cell_type": "markdown",
   "id": "c1fa9818",
   "metadata": {},
   "source": [
    "* Para la columna ***'otros'*** tratamos 4 valores nulos por medio de la mediana por columna, considerando 3 decimales.  Usar la mediana tomará el dato que se encuentre en el centro de la columna."
   ]
  },
  {
   "cell_type": "code",
   "execution_count": 47,
   "id": "619a25e5",
   "metadata": {},
   "outputs": [],
   "source": [
    "#Sustituir valores nulos con mediana\n",
    "data2['otros'] = data2['otros'].fillna(round(data['otros'].median(),3))"
   ]
  },
  {
   "cell_type": "code",
   "execution_count": 48,
   "id": "c20ee6ba",
   "metadata": {},
   "outputs": [
    {
     "data": {
      "text/plain": [
       "indice_tiempo                          0\n",
       "ventas_precios_corrientes              0\n",
       "ventas_precios_constantes              0\n",
       "ventas_totales_canal_venta             0\n",
       "salon_ventas                           0\n",
       "canales_on_line                        0\n",
       "ventas_totales_medio_pago              0\n",
       "efectivo                               0\n",
       "tarjetas_debito                        0\n",
       "tarjetas_credito                       0\n",
       "otros_medios                           0\n",
       "ventas_totales_grupo_articulos         0\n",
       "subtotal_ventas_alimentos_bebidas      0\n",
       "bebidas                                0\n",
       "almacen                                0\n",
       "panaderia                              0\n",
       "lacteos                                0\n",
       "carnes                                 0\n",
       "verduleria_fruteria                    0\n",
       "alimentos_preparados_rotiseria         0\n",
       "articulos_limpieza_perfumeria          0\n",
       "indumentaria_calzado_textiles_hogar    0\n",
       "electronicos_articulos_hogar           0\n",
       "otros                                  0\n",
       "dtype: int64"
      ]
     },
     "execution_count": 48,
     "metadata": {},
     "output_type": "execute_result"
    }
   ],
   "source": [
    "#identificar valores nulos por columna\n",
    "valores_nulos = data2.isnull().sum()\n",
    "valores_nulos"
   ]
  },
  {
   "cell_type": "code",
   "execution_count": 49,
   "id": "35d0fcb8",
   "metadata": {},
   "outputs": [],
   "source": [
    "data2.to_csv('Ventas_totales15.csv')"
   ]
  },
  {
   "cell_type": "code",
   "execution_count": 50,
   "id": "4eaa4a4e",
   "metadata": {},
   "outputs": [
    {
     "data": {
      "text/plain": [
       "0"
      ]
     },
     "execution_count": 50,
     "metadata": {},
     "output_type": "execute_result"
    }
   ],
   "source": [
    "data2.isnull().sum().sum()"
   ]
  },
  {
   "cell_type": "markdown",
   "id": "270eb8b0",
   "metadata": {},
   "source": [
    "* Finalmente guardamos un archivo que no contenga datos nulos."
   ]
  },
  {
   "cell_type": "code",
   "execution_count": 51,
   "id": "58c35370",
   "metadata": {},
   "outputs": [],
   "source": [
    "data2.to_csv('Ventas_totales_sin_nulos.csv')"
   ]
  }
 ],
 "metadata": {
  "kernelspec": {
   "display_name": "Python 3 (ipykernel)",
   "language": "python",
   "name": "python3"
  },
  "language_info": {
   "codemirror_mode": {
    "name": "ipython",
    "version": 3
   },
   "file_extension": ".py",
   "mimetype": "text/x-python",
   "name": "python",
   "nbconvert_exporter": "python",
   "pygments_lexer": "ipython3",
   "version": "3.10.9"
  }
 },
 "nbformat": 4,
 "nbformat_minor": 5
}
